{
  "nbformat": 4,
  "nbformat_minor": 0,
  "metadata": {
    "colab": {
      "provenance": []
    },
    "kernelspec": {
      "name": "python3",
      "display_name": "Python 3"
    },
    "language_info": {
      "name": "python"
    }
  },
  "cells": [
    {
      "cell_type": "code",
      "execution_count": null,
      "metadata": {
        "id": "NKHFNjVzDhb_"
      },
      "outputs": [],
      "source": [
        "import pandas as pd\n",
        "import numpy as np\n",
        "import matplotlib.pyplot as plt\n",
        "import seaborn as sns\n",
        "import joblib\n",
        "import pickle\n",
        "\n",
        "from sklearn.svm import SVR\n",
        "from sklearn.model_selection import train_test_split, cross_val_score\n",
        "from sklearn.preprocessing import StandardScaler, PolynomialFeatures\n",
        "from sklearn.linear_model import LinearRegression\n",
        "from sklearn.svm import SVR\n",
        "from sklearn.metrics import mean_squared_error, r2_score\n",
        "from google.colab import files\n",
        "from sklearn.model_selection import train_test_split\n",
        "from sklearn.ensemble import RandomForestRegressor\n",
        "from sklearn.tree import DecisionTreeRegressor\n",
        "from sklearn.metrics import classification_report, accuracy_score\n"
      ]
    },
    {
      "cell_type": "code",
      "source": [
        "with open('/right_model.pkl', 'rb') as f:\n",
        "    right_model = pickle.load(f)\n",
        "with open('/left_model.pkl', 'rb') as f:\n",
        "    left_model = pickle.load(f)\n",
        "print(type(right_model))\n",
        "print(type(left_model))"
      ],
      "metadata": {
        "colab": {
          "base_uri": "https://localhost:8080/"
        },
        "id": "o3zGTwUDED7d",
        "outputId": "314c28d1-781d-4c00-dd07-0ef6af878ecc"
      },
      "execution_count": null,
      "outputs": [
        {
          "output_type": "stream",
          "name": "stdout",
          "text": [
            "<class 'sklearn.model_selection._search.GridSearchCV'>\n",
            "<class 'sklearn.model_selection._search.GridSearchCV'>\n"
          ]
        }
      ]
    },
    {
      "cell_type": "code",
      "source": [
        "new_data = pd.read_csv('/Fall24.csv')\n",
        "\n",
        "new_data = new_data.drop(['Tilt'], axis = 1)\n",
        "\n",
        "new_data = new_data.iloc[:, 28:45].join(new_data.iloc[:, 7])\n",
        "\n",
        "new_left = new_data[new_data['PitcherThrows'] == 'Left']\n",
        "new_right = new_data[new_data['PitcherThrows'] == 'Right']\n",
        "\n",
        "new_left = new_left.drop(['PitcherThrows'], axis = 1)\n",
        "new_right = new_right.drop(['PitcherThrows'], axis = 1)\n",
        "\n",
        "print(new_left.head())\n",
        "print(new_right.head())"
      ],
      "metadata": {
        "colab": {
          "base_uri": "https://localhost:8080/"
        },
        "id": "Z4oKD0KWFXt6",
        "outputId": "3c4c1768-767d-4076-c613-34efe6931727"
      },
      "execution_count": null,
      "outputs": [
        {
          "output_type": "stream",
          "name": "stdout",
          "text": [
            "    RelSpeed  VertRelAngle  HorzRelAngle     SpinRate    SpinAxis  RelHeight  \\\n",
            "61  88.78874     -1.997445      5.240310  2202.983454  119.640679    5.29923   \n",
            "62  82.75755      0.422878      2.879386  1792.017351   95.141739    5.21506   \n",
            "63  89.34908     -1.816993      3.152898  2230.537081  133.693907    5.39367   \n",
            "64  81.02230     -1.040396      2.015421  2595.075890  265.771883    5.52859   \n",
            "65  80.81065     -0.732781      1.322497  2797.042055  268.503497    5.47950   \n",
            "\n",
            "    RelSide  Extension  VertBreak  InducedVertBreak  HorzBreak  \\\n",
            "61 -1.70959    4.95732  -25.90923          11.43839  -17.75186   \n",
            "62 -1.61507    4.92478  -39.48837           3.31488  -20.15387   \n",
            "63 -1.52184    4.84172  -20.66706          16.46292  -15.76280   \n",
            "64 -1.22644    4.77161  -42.69416           1.76311    4.94083   \n",
            "65 -1.43662    4.75507  -43.29183           1.78980    9.62780   \n",
            "\n",
            "    PlateLocHeight  PlateLocSide  ZoneSpeed  VertApprAngle  HorzApprAngle  \\\n",
            "61         1.24424       1.77603   80.36269      -6.761346       2.124986   \n",
            "62         2.32466      -0.57016   74.97587      -6.768837      -0.672452   \n",
            "63         1.94785       0.15286   80.25313      -5.675648       0.382511   \n",
            "64         0.98367       1.09680   74.56461      -8.716197       2.884723   \n",
            "65         1.17671       0.62010   73.71255      -8.542346       3.016541   \n",
            "\n",
            "    ZoneTime  \n",
            "61  0.439848  \n",
            "62  0.470879  \n",
            "63  0.438565  \n",
            "64  0.479891  \n",
            "65  0.483249  \n",
            "   RelSpeed  VertRelAngle  HorzRelAngle     SpinRate    SpinAxis  RelHeight  \\\n",
            "0  88.18306     -2.240987     -3.868340  2229.188806  229.899117    5.73119   \n",
            "1  75.63710      0.108576     -2.911052  2208.343258  278.117046    5.53383   \n",
            "2  88.26303     -2.665855     -2.528336  2132.492614  224.833593    5.67741   \n",
            "3  81.70531     -0.386303     -1.974463  2016.662031  165.927724    5.57874   \n",
            "4  81.90964     -1.686497     -3.105496  1953.048923  187.484386    5.62252   \n",
            "\n",
            "   RelSide  Extension  VertBreak  InducedVertBreak  HorzBreak  PlateLocHeight  \\\n",
            "0  1.47361    5.41857  -20.67844          16.42922   17.93036         1.90285   \n",
            "1  1.69444    5.55118  -50.59231          -0.42413   15.47221         1.41939   \n",
            "2  1.82507    5.59160  -19.32741          17.25678   15.90765         1.57335   \n",
            "3  2.12129    5.41297  -34.01159           9.19217   -1.91835         2.38231   \n",
            "4  1.77838    5.47524  -33.33163           9.62449    1.06319         1.26393   \n",
            "\n",
            "   PlateLocSide  ZoneSpeed  VertApprAngle  HorzApprAngle  ZoneTime  \n",
            "0      -0.66141   79.77360      -6.124670      -0.686133  0.438433  \n",
            "1       0.26123   68.76917      -9.156300      -0.149310  0.509783  \n",
            "2       0.78837   80.26622      -6.304625       0.309252  0.435330  \n",
            "3       0.11090   73.94947      -6.670439      -2.315578  0.473077  \n",
            "4      -1.04190   74.33808      -7.829896      -2.916406  0.471720  \n"
          ]
        }
      ]
    },
    {
      "cell_type": "code",
      "source": [
        "from enum import auto\n",
        "pred_left = left_model.predict(new_left)\n",
        "pred_right = right_model.predict(new_right)\n",
        "\n",
        "category_mapping = {\n",
        "    0: 'ChangeUp', 1: 'Curveball', 2: 'Cutter', 3: 'Fastball',\n",
        "    4: 'Other', 5: 'Sinker', 6: 'Slider', 7: 'Splitter', 8: 'Undefined'\n",
        "}\n",
        "\n",
        "# Round predictions to the nearest integer\n",
        "rounded_left = np.round(pred_left).astype(int)\n",
        "rounded_right = np.round(pred_right).astype(int)\n",
        "\n",
        "# Map integer predictions back to pitch names\n",
        "mapped_predictions_left = [category_mapping[p] for p in rounded_left]\n",
        "mapped_predictions_right = [category_mapping[p] for p in rounded_right]\n",
        "\n",
        "print(len(mapped_predictions_left))\n",
        "print(len(mapped_predictions_right))\n",
        "\n",
        "actual_pitches_left = pd.read_csv('/Fall24.csv')\n",
        "actual_pitches_left = actual_pitches_left[actual_pitches_left['PitcherThrows'] == 'Left']['TaggedPitchType']\n",
        "actual_pitches_right = pd.read_csv('/Fall24.csv')\n",
        "actual_pitches_right = actual_pitches_right[actual_pitches_right['PitcherThrows'] == 'Right']['TaggedPitchType']\n",
        "auto_pitches_left = pd.read_csv('/Fall24.csv')\n",
        "auto_pitches_left = auto_pitches_left[auto_pitches_left['PitcherThrows'] == 'Left']['AutoPitchType']\n",
        "auto_pitches_right = pd.read_csv('/Fall24.csv')\n",
        "auto_pitches_right = auto_pitches_right[auto_pitches_right['PitcherThrows'] == 'Right']['AutoPitchType']\n",
        "\n",
        "print(len(actual_pitches_left))\n",
        "print(len(actual_pitches_right))\n",
        "\n",
        "# Save mapped predictions to CSV\n",
        "Left_predicted_df = pd.DataFrame({\n",
        "    'Actual_Left_Pitch': actual_pitches_left[:len(rounded_left)],\n",
        "    'Auto_Left_Pitch': auto_pitches_left[:len(rounded_left)],\n",
        "    'Predicted_Left_Pitch': [category_mapping[p] for p in rounded_left],\n",
        "})\n",
        "\n",
        "Right_predicted_df = pd.DataFrame({\n",
        "    'Actual_Right_Pitch': actual_pitches_right[:len(rounded_right)],\n",
        "    'Auto_Right_Pitch': auto_pitches_right[:len(rounded_right)],\n",
        "    'Predicted_Right_Pitch': [category_mapping[p] for p in rounded_right],\n",
        "})\n",
        "\n",
        "\n",
        "Right_predicted_df.to_csv('Right_new_pitch_predictions.csv', index=False)\n",
        "Left_predicted_df.to_csv('Left_new_pitch_predictions.csv', index=False)\n"
      ],
      "metadata": {
        "colab": {
          "base_uri": "https://localhost:8080/"
        },
        "id": "EkVo4IXLGyOR",
        "outputId": "98360ce7-d251-4b72-d059-b93f8d9dbe30"
      },
      "execution_count": null,
      "outputs": [
        {
          "output_type": "stream",
          "name": "stdout",
          "text": [
            "372\n",
            "1087\n",
            "372\n",
            "1087\n"
          ]
        }
      ]
    },
    {
      "cell_type": "code",
      "source": [
        "accurate_predictions_left = (Left_predicted_df['Actual_Left_Pitch'] == Left_predicted_df['Predicted_Left_Pitch']).sum()\n",
        "total_predictions_left = len(Left_predicted_df)\n",
        "accuracy_percentage_left = (accurate_predictions_left / total_predictions_left) * 100\n",
        "auto_correct_left = (Left_predicted_df['Auto_Left_Pitch'] == Left_predicted_df['Predicted_Left_Pitch']).sum()\n",
        "auto_correct_percentage_left = (auto_correct_left / total_predictions_left) * 100\n",
        "auto_actual_left = (Left_predicted_df['Auto_Left_Pitch'] == Left_predicted_df['Actual_Left_Pitch']).sum()\n",
        "auto_actual_percentage_left = (auto_actual_left / total_predictions_left) * 100\n",
        "\n",
        "print(total_predictions_left)\n",
        "print(accurate_predictions_left)\n",
        "print(auto_correct_left)\n",
        "print(auto_actual_left)\n",
        "print(f\"Left Actual vs predicted: {accuracy_percentage_left:.2f}%\")\n",
        "print(f\"Left Auto vs predicted: {auto_correct_percentage_left:.2f}%\")\n",
        "print(f\"Left Auto vs Actual: {auto_actual_percentage_left:.2f}%\")"
      ],
      "metadata": {
        "colab": {
          "base_uri": "https://localhost:8080/"
        },
        "id": "RGvDzX0ASpWK",
        "outputId": "2440356f-47cb-4c84-e70c-6b89c2ecd101"
      },
      "execution_count": null,
      "outputs": [
        {
          "output_type": "stream",
          "name": "stdout",
          "text": [
            "372\n",
            "353\n",
            "63\n",
            "65\n",
            "Left Actual vs predicted: 94.89%\n",
            "Left Auto vs predicted: 16.94%\n",
            "Left Auto vs Actual: 17.47%\n"
          ]
        }
      ]
    },
    {
      "cell_type": "code",
      "source": [
        "accurate_predictions_right = (Right_predicted_df['Actual_Right_Pitch'] == Right_predicted_df['Predicted_Right_Pitch']).sum()\n",
        "total_predictions_right = len(Right_predicted_df)\n",
        "accuracy_percentage_right = (accurate_predictions_right / total_predictions_right) * 100\n",
        "auto_correct_right = (Right_predicted_df['Auto_Right_Pitch'] == Right_predicted_df['Predicted_Right_Pitch']).sum()\n",
        "auto_correct_percentage_right = (auto_correct_right / total_predictions_right) * 100\n",
        "auto_actual_right = (Right_predicted_df['Auto_Right_Pitch'] == Right_predicted_df['Actual_Right_Pitch']).sum()\n",
        "auto_actual_percentage_right = (auto_actual_right / total_predictions_right) * 100\n",
        "\n",
        "print(total_predictions_right)\n",
        "print(accurate_predictions_right)\n",
        "print(auto_correct_right)\n",
        "print(auto_actual_right)\n",
        "print(f\"Right Actual vs predicted: {accuracy_percentage_right:.2f}%\")\n",
        "print(f\"Right Auto vs predicted: {auto_correct_percentage_right:.2f}%\")\n",
        "print(f\"Right Auto vs Actual: {auto_actual_percentage_right:.2f}%\")"
      ],
      "metadata": {
        "colab": {
          "base_uri": "https://localhost:8080/"
        },
        "id": "ET56BlTZuo20",
        "outputId": "3b63d99a-1562-4aa8-c1b4-fc92d308dfa5"
      },
      "execution_count": null,
      "outputs": [
        {
          "output_type": "stream",
          "name": "stdout",
          "text": [
            "1087\n",
            "909\n",
            "236\n",
            "298\n",
            "Right Actual vs predicted: 83.62%\n",
            "Right Auto vs predicted: 21.71%\n",
            "Right Auto vs Actual: 27.41%\n"
          ]
        }
      ]
    },
    {
      "cell_type": "code",
      "source": [
        "files.download('Right_new_pitch_predictions.csv')\n",
        "files.download('Left_new_pitch_predictions.csv')"
      ],
      "metadata": {
        "colab": {
          "base_uri": "https://localhost:8080/",
          "height": 17
        },
        "id": "tef3yOEACd77",
        "outputId": "fbfc9163-aaf7-421a-c4fd-99f3536b1c0f"
      },
      "execution_count": null,
      "outputs": [
        {
          "output_type": "display_data",
          "data": {
            "text/plain": [
              "<IPython.core.display.Javascript object>"
            ],
            "application/javascript": [
              "\n",
              "    async function download(id, filename, size) {\n",
              "      if (!google.colab.kernel.accessAllowed) {\n",
              "        return;\n",
              "      }\n",
              "      const div = document.createElement('div');\n",
              "      const label = document.createElement('label');\n",
              "      label.textContent = `Downloading \"${filename}\": `;\n",
              "      div.appendChild(label);\n",
              "      const progress = document.createElement('progress');\n",
              "      progress.max = size;\n",
              "      div.appendChild(progress);\n",
              "      document.body.appendChild(div);\n",
              "\n",
              "      const buffers = [];\n",
              "      let downloaded = 0;\n",
              "\n",
              "      const channel = await google.colab.kernel.comms.open(id);\n",
              "      // Send a message to notify the kernel that we're ready.\n",
              "      channel.send({})\n",
              "\n",
              "      for await (const message of channel.messages) {\n",
              "        // Send a message to notify the kernel that we're ready.\n",
              "        channel.send({})\n",
              "        if (message.buffers) {\n",
              "          for (const buffer of message.buffers) {\n",
              "            buffers.push(buffer);\n",
              "            downloaded += buffer.byteLength;\n",
              "            progress.value = downloaded;\n",
              "          }\n",
              "        }\n",
              "      }\n",
              "      const blob = new Blob(buffers, {type: 'application/binary'});\n",
              "      const a = document.createElement('a');\n",
              "      a.href = window.URL.createObjectURL(blob);\n",
              "      a.download = filename;\n",
              "      div.appendChild(a);\n",
              "      a.click();\n",
              "      div.remove();\n",
              "    }\n",
              "  "
            ]
          },
          "metadata": {}
        },
        {
          "output_type": "display_data",
          "data": {
            "text/plain": [
              "<IPython.core.display.Javascript object>"
            ],
            "application/javascript": [
              "download(\"download_7d915a93-e40e-4b11-84af-2f3e7589c695\", \"Right_new_pitch_predictions.csv\", 27981)"
            ]
          },
          "metadata": {}
        },
        {
          "output_type": "display_data",
          "data": {
            "text/plain": [
              "<IPython.core.display.Javascript object>"
            ],
            "application/javascript": [
              "\n",
              "    async function download(id, filename, size) {\n",
              "      if (!google.colab.kernel.accessAllowed) {\n",
              "        return;\n",
              "      }\n",
              "      const div = document.createElement('div');\n",
              "      const label = document.createElement('label');\n",
              "      label.textContent = `Downloading \"${filename}\": `;\n",
              "      div.appendChild(label);\n",
              "      const progress = document.createElement('progress');\n",
              "      progress.max = size;\n",
              "      div.appendChild(progress);\n",
              "      document.body.appendChild(div);\n",
              "\n",
              "      const buffers = [];\n",
              "      let downloaded = 0;\n",
              "\n",
              "      const channel = await google.colab.kernel.comms.open(id);\n",
              "      // Send a message to notify the kernel that we're ready.\n",
              "      channel.send({})\n",
              "\n",
              "      for await (const message of channel.messages) {\n",
              "        // Send a message to notify the kernel that we're ready.\n",
              "        channel.send({})\n",
              "        if (message.buffers) {\n",
              "          for (const buffer of message.buffers) {\n",
              "            buffers.push(buffer);\n",
              "            downloaded += buffer.byteLength;\n",
              "            progress.value = downloaded;\n",
              "          }\n",
              "        }\n",
              "      }\n",
              "      const blob = new Blob(buffers, {type: 'application/binary'});\n",
              "      const a = document.createElement('a');\n",
              "      a.href = window.URL.createObjectURL(blob);\n",
              "      a.download = filename;\n",
              "      div.appendChild(a);\n",
              "      a.click();\n",
              "      div.remove();\n",
              "    }\n",
              "  "
            ]
          },
          "metadata": {}
        },
        {
          "output_type": "display_data",
          "data": {
            "text/plain": [
              "<IPython.core.display.Javascript object>"
            ],
            "application/javascript": [
              "download(\"download_9f779c06-e443-4a08-87a5-563eea8bd542\", \"Left_new_pitch_predictions.csv\", 9606)"
            ]
          },
          "metadata": {}
        }
      ]
    }
  ]
}